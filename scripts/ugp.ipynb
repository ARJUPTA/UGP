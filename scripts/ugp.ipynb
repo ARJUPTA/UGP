{
  "cells": [
    {
      "cell_type": "code",
      "execution_count": null,
      "metadata": {
        "id": "jQb9qWW-aV1X"
      },
      "outputs": [],
      "source": [
        "!pip install pillow\n",
        "from PIL import Image\n",
        "raw_image = Image.open(\"Raw.jpg\")\n",
        "raw_image"
      ]
    },
    {
      "cell_type": "code",
      "execution_count": null,
      "metadata": {
        "id": "rq_kw0WjaV1Z"
      },
      "outputs": [],
      "source": [
        "import numpy as np\n",
        "arr = np.array(raw_image)\n",
        "arr.shape"
      ]
    },
    {
      "cell_type": "code",
      "source": [
        "import matplotlib.pyplot as plt\n",
        "# tuple to select colors of each channel line\n",
        "colors = (\"red\", \"green\", \"blue\")\n",
        "channel_ids = (0, 1, 2)\n",
        "\n",
        "# create the histogram plot, with three lines, one for each color\n",
        "plt.figure()\n",
        "plt.xlim([0, 256])\n",
        "for channel_id, c in zip(channel_ids, colors):\n",
        "    histogram, bin_edges = np.histogram(\n",
        "        arr[:, :, channel_id], bins=256, range=(0, 256)\n",
        "    )\n",
        "    plt.plot(bin_edges[:-1], histogram, color=c)\n",
        "\n",
        "plt.title(\"Color Histogram\")\n",
        "plt.xlabel(\"Color Coordinate\")\n",
        "plt.ylabel(\"Pixel Count\")\n",
        "\n",
        "plt.show()"
      ],
      "metadata": {
        "colab": {
          "base_uri": "https://localhost:8080/",
          "height": 295
        },
        "id": "7ta3lUVykgcH",
        "outputId": "bec9ac2c-e2d4-453b-99b1-ff0b6b0714fb"
      },
      "execution_count": 55,
      "outputs": [
        {
          "output_type": "display_data",
          "data": {
            "text/plain": [
              "<Figure size 432x288 with 1 Axes>"
            ],
            "image/png": "[encoded data removed]"
          },
          "metadata": {
            "needs_background": "light"
          }
        }
      ]
    }
  ],
  "metadata": {
    "kernelspec": {
      "display_name": "Python 3",
      "language": "python",
      "name": "python3"
    },
    "language_info": {
      "codemirror_mode": {
        "name": "ipython",
        "version": 3
      },
      "file_extension": ".py",
      "mimetype": "text/x-python",
      "name": "python",
      "nbconvert_exporter": "python",
      "pygments_lexer": "ipython3",
      "version": "3.7.4"
    },
    "colab": {
      "name": "ugp.ipynb",
      "provenance": [],
      "collapsed_sections": []
    }
  },
  "nbformat": 4,
  "nbformat_minor": 0
}